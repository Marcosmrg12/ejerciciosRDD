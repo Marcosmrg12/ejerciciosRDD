{
 "cells": [
  {
   "cell_type": "code",
   "execution_count": 4,
   "metadata": {},
   "outputs": [
    {
     "name": "stdout",
     "output_type": "stream",
     "text": [
      "Años en los que las emperaturas fueron mas bajas\n",
      "[(1997, -30), (2009, -2)]\n"
     ]
    }
   ],
   "source": [
    "tempBajas = sc.parallelize([(2015,15),(1997,-30),(2009,-2),(1987,10),(1912,22)]).filter(lambda x: x[1] < 0).collect()\n",
    "print(\"Años en los que las emperaturas fueron mas bajas\")\n",
    "print(tempBajas)"
   ]
  },
  {
   "cell_type": "code",
   "execution_count": 5,
   "metadata": {},
   "outputs": [
    {
     "name": "stdout",
     "output_type": "stream",
     "text": [
      "Temperaturas bajo cero\n",
      "[(1997, -30), (2009, -2), (1987, 10)]\n"
     ]
    }
   ],
   "source": [
    "bajoCero = sc.parallelize([(2015,15),(1997,-30),(2009,-2),(1987,10),(1912,22)]).takeOrdered(3, key=lambda x: x[1])\n",
    "print(\"Tres temperaturas bajo cero\")\n",
    "print(bajoCero)"
   ]
  },
  {
   "cell_type": "code",
   "execution_count": 6,
   "metadata": {},
   "outputs": [
    {
     "name": "stdout",
     "output_type": "stream",
     "text": [
      "Tres temperaturas más altas bajo cero\n",
      "[(1997, -30), (2009, -2), (2015, 15)]\n"
     ]
    }
   ],
   "source": [
    "altas = sc.parallelize([(2015,15),(1997,-30),(2009,-2),(1987,10),(1912,22)]).top(3, key=lambda x: x[1] < 0)\n",
    "print(\"Tres temperaturas más altas bajo cero\")\n",
    "print(altas)"
   ]
  },
  {
   "cell_type": "code",
   "execution_count": null,
   "metadata": {},
   "outputs": [],
   "source": []
  }
 ],
 "metadata": {
  "kernelspec": {
   "display_name": "Python 3",
   "language": "python",
   "name": "python3"
  },
  "language_info": {
   "codemirror_mode": {
    "name": "ipython",
    "version": 3
   },
   "file_extension": ".py",
   "mimetype": "text/x-python",
   "name": "python",
   "nbconvert_exporter": "python",
   "pygments_lexer": "ipython3",
   "version": "3.7.1"
  }
 },
 "nbformat": 4,
 "nbformat_minor": 2
}
