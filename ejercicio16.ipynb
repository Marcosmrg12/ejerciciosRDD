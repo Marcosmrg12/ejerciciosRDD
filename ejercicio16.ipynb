{
 "cells": [
  {
   "cell_type": "code",
   "execution_count": 1,
   "metadata": {},
   "outputs": [
    {
     "name": "stdout",
     "output_type": "stream",
     "text": [
      "[('is', 1), ('dummy', 2), ('of', 4), ('printing', 1), ('typesetting', 1), (\"industry's\", 1), ('ever', 1), ('1500s,', 1), ('when', 1), ('an', 1), ('unknown', 1), ('took', 1), ('galley', 1), ('type', 2), ('make', 1), ('book.', 1), ('It', 2), ('only', 1), ('but', 1), ('into', 1), ('typesetting,', 1), ('remaining', 1), ('essentially', 1), ('was', 1), ('in', 1), ('1960s', 1), ('passages,', 1), ('more', 1), ('desktop', 1), ('like', 1), ('Aldus', 1), ('PageMaker', 1), ('versions', 1), ('simply', 1), ('text', 2), ('the', 6), ('and', 3), ('industry.', 1), ('has', 2), ('been', 1), ('standard', 1), ('since', 1), ('printer', 1), ('a', 2), ('scrambled', 1), ('it', 1), ('to', 1), ('specimen', 1), ('survived', 1), ('not', 1), ('five', 1), ('centuries,', 1), ('also', 1), ('leap', 1), ('electronic', 1), ('unchanged.', 1), ('popularised', 1), ('with', 2), ('release', 1), ('Letraset', 1), ('sheets', 1), ('containing', 1), ('recently', 1), ('publishing', 1), ('software', 1), ('including', 1), ('Ipsum.', 1)]\n"
     ]
    }
   ],
   "source": [
    "prohibidas = (\"Celestina\", \"Lorem\", \"Ipsum\")\n",
    "palabras = sc.textFile(\"texto.txt\").flatMap(lambda x: x.split(' ')).filter(lambda y: y not in prohibidas)\\\n",
    ".map(lambda y: (y,1)).reduceByKey(lambda a, b: a+b).collect()\n",
    "print(palabras)"
   ]
  },
  {
   "cell_type": "code",
   "execution_count": null,
   "metadata": {},
   "outputs": [],
   "source": []
  },
  {
   "cell_type": "code",
   "execution_count": null,
   "metadata": {},
   "outputs": [],
   "source": []
  },
  {
   "cell_type": "code",
   "execution_count": null,
   "metadata": {},
   "outputs": [],
   "source": []
  }
 ],
 "metadata": {
  "kernelspec": {
   "display_name": "Python 3",
   "language": "python",
   "name": "python3"
  },
  "language_info": {
   "codemirror_mode": {
    "name": "ipython",
    "version": 3
   },
   "file_extension": ".py",
   "mimetype": "text/x-python",
   "name": "python",
   "nbconvert_exporter": "python",
   "pygments_lexer": "ipython3",
   "version": "3.7.1"
  }
 },
 "nbformat": 4,
 "nbformat_minor": 2
}
