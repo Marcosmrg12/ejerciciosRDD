{
 "cells": [
  {
   "cell_type": "code",
   "execution_count": 5,
   "metadata": {},
   "outputs": [
    {
     "name": "stdout",
     "output_type": "stream",
     "text": [
      "[(0, ('Pedro', 'Deporte')), (4, ('Ramon', 'Viajar')), (1, ('Antonio', 'Tapear')), (2, ('Marta', 'Cerveza')), (3, ('Sara', 'Bicicleta'))]\n"
     ]
    }
   ],
   "source": [
    "usuarios = sc.parallelize([(0,'Pedro'),(1,'Antonio'),(2,'Marta'),(3,'Sara'),(4,'Ramon')])\n",
    "hobbies  = sc.parallelize([(0,'Deporte'),(1,'Tapear'),(2,'Cerveza'),(3,'Bicicleta'),(4,'Viajar')])\n",
    "resul = usuarios.fullOuterJoin(hobbies).collect()\n",
    "print(resul)"
   ]
  },
  {
   "cell_type": "code",
   "execution_count": null,
   "metadata": {},
   "outputs": [],
   "source": []
  },
  {
   "cell_type": "code",
   "execution_count": null,
   "metadata": {},
   "outputs": [],
   "source": []
  },
  {
   "cell_type": "code",
   "execution_count": null,
   "metadata": {},
   "outputs": [],
   "source": []
  }
 ],
 "metadata": {
  "kernelspec": {
   "display_name": "Python 3",
   "language": "python",
   "name": "python3"
  },
  "language_info": {
   "codemirror_mode": {
    "name": "ipython",
    "version": 3
   },
   "file_extension": ".py",
   "mimetype": "text/x-python",
   "name": "python",
   "nbconvert_exporter": "python",
   "pygments_lexer": "ipython3",
   "version": "3.7.1"
  }
 },
 "nbformat": 4,
 "nbformat_minor": 2
}
