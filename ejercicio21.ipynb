{
 "cells": [
  {
   "cell_type": "code",
   "execution_count": 1,
   "metadata": {},
   "outputs": [],
   "source": [
    "from pyspark.sql import Row"
   ]
  },
  {
   "cell_type": "code",
   "execution_count": 6,
   "metadata": {},
   "outputs": [],
   "source": [
    "total = sc.textFile('aeropuertos').map(lambda line: line.split(\",\")).map(lambda x: Row(nombre=x[0],ciudad=x[1],pais=x[2],latitud=int(x[3]),altitud=int(x[4]),longitud=int(x[5]),horario=x[6])).collect()\n",
    "df = sqlContext.createDataFrame(total)\n",
    "sqlContext.registerDataFrameAsTable(df,'aeropuerto')\n",
    "df.registerTempTable('aeropuerto')"
   ]
  },
  {
   "cell_type": "code",
   "execution_count": 7,
   "metadata": {},
   "outputs": [
    {
     "name": "stdout",
     "output_type": "stream",
     "text": [
      "+-----------------+------+\n",
      "|           nombre|ciudad|\n",
      "+-----------------+------+\n",
      "|          Granada|   GRX|\n",
      "|Palma de Mallorca|   PMI|\n",
      "+-----------------+------+\n",
      "\n"
     ]
    }
   ],
   "source": [
    "españa = sqlContext.sql(\"select nombre,ciudad from aeropuerto where pais='Espana'\")\n",
    "españa.show()"
   ]
  },
  {
   "cell_type": "code",
   "execution_count": 9,
   "metadata": {},
   "outputs": [
    {
     "name": "stdout",
     "output_type": "stream",
     "text": [
      "+---------+-------+\n",
      "|   nombre|latitud|\n",
      "+---------+-------+\n",
      "|  Granada|     74|\n",
      "|    Noain|     60|\n",
      "|Agoncillo|     45|\n",
      "|    Lujua|     60|\n",
      "+---------+-------+\n",
      "\n"
     ]
    }
   ],
   "source": [
    "latitud = sqlContext.sql(\"select nombre,latitud from aeropuerto where latitud>40\")\n",
    "latitud.show()"
   ]
  },
  {
   "cell_type": "code",
   "execution_count": 10,
   "metadata": {},
   "outputs": [],
   "source": [
    "españa.write.csv('espana.csv')\n",
    "latitud.write.csv('latitud.csv')"
   ]
  },
  {
   "cell_type": "code",
   "execution_count": null,
   "metadata": {},
   "outputs": [],
   "source": []
  },
  {
   "cell_type": "code",
   "execution_count": null,
   "metadata": {},
   "outputs": [],
   "source": []
  }
 ],
 "metadata": {
  "kernelspec": {
   "display_name": "Python 3",
   "language": "python",
   "name": "python3"
  },
  "language_info": {
   "codemirror_mode": {
    "name": "ipython",
    "version": 3
   },
   "file_extension": ".py",
   "mimetype": "text/x-python",
   "name": "python",
   "nbconvert_exporter": "python",
   "pygments_lexer": "ipython3",
   "version": "3.7.1"
  }
 },
 "nbformat": 4,
 "nbformat_minor": 2
}
