{
 "cells": [
  {
   "cell_type": "code",
   "execution_count": 1,
   "metadata": {},
   "outputs": [],
   "source": [
    "from pyspark.sql import Row"
   ]
  },
  {
   "cell_type": "code",
   "execution_count": 13,
   "metadata": {},
   "outputs": [],
   "source": [
    "total = sc.textFile('medallas').map(lambda x: x.split(\",\")).map(lambda x: Row(nombre=x[0],medallas=x[1],edad=int(x[2]))).collect()\n",
    "df = sqlContext.createDataFrame(total)\n",
    "sqlContext.registerDataFrameAsTable(df,'deportistas')\n",
    "df.registerTempTable('deportistas')"
   ]
  },
  {
   "cell_type": "code",
   "execution_count": 17,
   "metadata": {},
   "outputs": [
    {
     "name": "stdout",
     "output_type": "stream",
     "text": [
      "+--------+----+\n",
      "|medallas|edad|\n",
      "+--------+----+\n",
      "|       1|  26|\n",
      "|       1|  19|\n",
      "|       3|  22|\n",
      "|       1|  31|\n",
      "|       1|  27|\n",
      "|       1|  18|\n",
      "|       2|  21|\n",
      "|       3|  23|\n",
      "|       3|  24|\n",
      "+--------+----+\n",
      "\n"
     ]
    }
   ],
   "source": [
    "medallistasEdad = sqlContext.sql(\"select count(medallas) as medallas, edad from deportistas group by edad\")\n",
    "medallistasEdad.show()"
   ]
  },
  {
   "cell_type": "code",
   "execution_count": 21,
   "metadata": {},
   "outputs": [
    {
     "name": "stdout",
     "output_type": "stream",
     "text": [
      "+--------------------+-------------+--------+\n",
      "|              nombre|totalMedallas|medallas|\n",
      "+--------------------+-------------+--------+\n",
      "|       Andre Auffray|            1|  bronce|\n",
      "|          Usain Bolt|            1|  bronce|\n",
      "|Frederick Englehardt|            1|  bronce|\n",
      "|         Edgar Adams|            1|  bronce|\n",
      "|       Irving Baxter|            1|  bronce|\n",
      "|       emile Fisseux|            2|     oro|\n",
      "|     Robert Cloughen|            1|     oro|\n",
      "|       Hermann Glass|            1|     oro|\n",
      "|         Edgar Adams|            1|     oro|\n",
      "|      Gaston Alibert|            1|     oro|\n",
      "|          Usain Bolt|            1|     oro|\n",
      "|      Michael Phepls|            1|   plata|\n",
      "|       Andre Auffray|            1|   plata|\n",
      "|     Robert Cloughen|            1|   plata|\n",
      "|         Daria Pratt|            1|   plata|\n",
      "+--------------------+-------------+--------+\n",
      "\n"
     ]
    }
   ],
   "source": [
    "ranking = sqlContext.sql(\"Select nombre,count(medallas) as totalMedallas,medallas from deportistas group By nombre,medallas order By medallas,count(medallas) DESC\")\n",
    "ranking.show()"
   ]
  },
  {
   "cell_type": "code",
   "execution_count": null,
   "metadata": {},
   "outputs": [],
   "source": []
  }
 ],
 "metadata": {
  "kernelspec": {
   "display_name": "Python 3",
   "language": "python",
   "name": "python3"
  },
  "language_info": {
   "codemirror_mode": {
    "name": "ipython",
    "version": 3
   },
   "file_extension": ".py",
   "mimetype": "text/x-python",
   "name": "python",
   "nbconvert_exporter": "python",
   "pygments_lexer": "ipython3",
   "version": "3.7.1"
  }
 },
 "nbformat": 4,
 "nbformat_minor": 2
}
