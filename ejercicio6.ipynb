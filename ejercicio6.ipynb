{
 "cells": [
  {
   "cell_type": "code",
   "execution_count": 76,
   "metadata": {},
   "outputs": [
    {
     "name": "stdout",
     "output_type": "stream",
     "text": [
      "NURIA MURILLO RICART\n",
      "['nuria murillo ricart']\n",
      "\n",
      "JUAN JOSÉ ESTRADA-POL\n",
      "['juan josé estrada-pol']\n",
      "\n",
      "GLORIA LUNA BAS\n",
      "['gloria luna bas']\n",
      "\n",
      "HECTOR BLASCO ARRIBAS\n",
      "['hector blasco arribas']\n",
      "\n",
      "JOSEFINA DEL TRUJILLO\n",
      "['josefina del trujillo']\n",
      "\n"
     ]
    }
   ],
   "source": [
    "from faker import Faker\n",
    "fake = Faker('es_ES')\n",
    "for i in range(5):\n",
    "    nombres=[]\n",
    "    nombres=fake.name().upper()\n",
    "    print(nombres)\n",
    "    minus = sc.parallelize(nombres.split(',')).map(lambda x: x.lower()).collect()\n",
    "    print(minus)\n",
    "    print()"
   ]
  },
  {
   "cell_type": "code",
   "execution_count": null,
   "metadata": {},
   "outputs": [],
   "source": []
  },
  {
   "cell_type": "code",
   "execution_count": null,
   "metadata": {},
   "outputs": [],
   "source": []
  },
  {
   "cell_type": "code",
   "execution_count": null,
   "metadata": {},
   "outputs": [],
   "source": []
  }
 ],
 "metadata": {
  "kernelspec": {
   "display_name": "Python 3",
   "language": "python",
   "name": "python3"
  },
  "language_info": {
   "codemirror_mode": {
    "name": "ipython",
    "version": 3
   },
   "file_extension": ".py",
   "mimetype": "text/x-python",
   "name": "python",
   "nbconvert_exporter": "python",
   "pygments_lexer": "ipython3",
   "version": "3.7.1"
  }
 },
 "nbformat": 4,
 "nbformat_minor": 2
}
